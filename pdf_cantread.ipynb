{
 "cells": [
  {
   "cell_type": "code",
   "execution_count": 1,
   "metadata": {},
   "outputs": [],
   "source": [
    "#https://www.youtube.com/watch?v=rNxMwtottmM\n",
    "\n",
    "from PIL import Image     \n",
    "from pytesseract import *"
   ]
  },
  {
   "cell_type": "code",
   "execution_count": 2,
   "metadata": {},
   "outputs": [],
   "source": [
    "import os\n",
    "import glob\n",
    "from tqdm import tqdm\n",
    "from pdf2jpg import pdf2jpg"
   ]
  },
  {
   "cell_type": "code",
   "execution_count": 3,
   "metadata": {},
   "outputs": [
    {
     "name": "stderr",
     "output_type": "stream",
     "text": [
      "100%|████████████████████████████████████████████████████████████████████████████████████| 1/1 [00:13<00:00, 13.99s/it]\n"
     ]
    }
   ],
   "source": [
    "def pdf_to_jpg(source):\n",
    "    os.chdir(source)   # 폴더쪽으로 이동\n",
    "    pdf=glob.glob('top.pdf')  #폴더에서 pdf만 골라낸다.\n",
    "\n",
    "    \n",
    "    destination=os.path.join(source, 'exchange_pdf')  #jpg들을 저장\n",
    "    \n",
    "    if not os.path.isdir(destination):  #폴더가 있는지 없는지 확인\n",
    "        os.mkdir(destination)\n",
    "\n",
    "\n",
    "    for item in tqdm(pdf):  #tqdm모듈은 진행상황 바를 보여주는 모듈\n",
    "        pdf2jpg.convert_pdf2jpg(item, destination, dpi=300, pages='ALL')   \n",
    "        #(원래위치, 저장위치,dpi,모든페이지가 jpg로 변환)\n",
    "#         for i, page in enumerate(pdf):\n",
    "#             page.save(os.path.join(os.path.basename(pdf_).split('.')[0]+'.jpg'), 'JPEG') \n",
    "#         for i, image in enumerate(pdf):\n",
    "#             fname = 'pdf_'+str(i)+'.jpg'\n",
    "#             image.save(fname, \"JPEG\")\n",
    "            \n",
    "if __name__ == '__main__':\n",
    "    source =r'C:\\Users\\myuni\\HAN'\n",
    "    pdf_to_jpg(source)  #source = pdf파일들이 있는 폴더"
   ]
  },
  {
   "cell_type": "code",
   "execution_count": 7,
   "metadata": {},
   "outputs": [
    {
     "ename": "SyntaxError",
     "evalue": "(unicode error) 'unicodeescape' codec can't decode bytes in position 2-3: truncated \\UXXXXXXXX escape (<ipython-input-7-3774a5c9d008>, line 6)",
     "output_type": "error",
     "traceback": [
      "\u001b[1;36m  File \u001b[1;32m\"<ipython-input-7-3774a5c9d008>\"\u001b[1;36m, line \u001b[1;32m6\u001b[0m\n\u001b[1;33m    folder_path=\"C:\\Users\\myuni\\HAN\\exchange_pdf\"\u001b[0m\n\u001b[1;37m               ^\u001b[0m\n\u001b[1;31mSyntaxError\u001b[0m\u001b[1;31m:\u001b[0m (unicode error) 'unicodeescape' codec can't decode bytes in position 2-3: truncated \\UXXXXXXXX escape\n"
     ]
    }
   ],
   "source": [
    "# rename_file.py : 폴더 내의 파일을 불러와 이름 변경\n",
    "# original 폴더 > (hood_T/long_T/...) 폴더 > hood_T_1.jpg 파일 있음.\n",
    "# hood_T_1 (2).jpg -> hood_T_2.jpg와 같이 이름을 순서대로 변경\n",
    "import os\n",
    "\n",
    "folder_path=\"C:\\Users\\myuni\\HAN\\exchange_pdf\"\n",
    "folder_list = os.listdir(folder_path)                                               # 각 폴더 이름 (hood_T/hong_T/...)\n",
    "#folder_list = [\"hood_T\", \"long_T\"]\n",
    "for folder_name in folder_list :                                                    # 각 폴더 이름(hood_T)의 파일이름 얻기\n",
    "    file_path = folder_path + \"\\\\\" + folder_name                                    # file_path : D:\\\\python_D\\\\fashion_data\\\\original\\\\hood_T\n",
    "    \n",
    "    file_list = os.listdir(file_path)                                               # file_list[0] : D:\\\\python_D\\\\fashion_data\\\\original\\\\hood_T\\\\hood_T_1.jpg\n",
    "    #file_list.sort()\n",
    "\n",
    "    print(\"-------------------------------------------------\")\n",
    "    print(folder_name + \" have \" + str(len(file_list)) + \" files.\")\n",
    "    print(\"file_path : \" + file_path)\n",
    "    \n",
    "    # (hood_T_1(2).jpg -> 1.jpg) 이미 이름이 있는 파일이면 오류가 나기에 먼저 숫자로된 아무 이름으로 만들고, 다시 이름을 지정합니다.\n",
    "    count = 1\n",
    "    for file_name in file_list :\n",
    "        old_name = file_path + \"\\\\\" + file_name                                     # old_name = D:\\\\python_D\\\\fashion_data\\\\original\\\\hood_T\\\\hood_T_1 (2).jpg\n",
    "        new_name = file_path + \"\\\\\" + str(count) + \".jpg\"                           # new_name = D:\\\\python_D\\\\fashion_data\\\\original\\\\hood_T\\\\1.jpg\n",
    "\n",
    "        try:\n",
    "            os.rename(old_name, new_name)\n",
    "            print(\"success : \" + file_name + \" -> \" + str(count) + \".jpg\")\n",
    "        except:\n",
    "            print(\"fail : \" + file_name + \" -> \" + str(count) + \".jpg\")\n",
    "            print(\"=========files already renamed original(abcde.jpg) to number(1.jpg)===========\")\n",
    "            \n",
    "        count = count + 1\n",
    "\n",
    "\n",
    "    # (1.jpg -> hood_T_1.jpg) : count 값을 다시 지정해 이름을 지정함.\n",
    "    file_list = os.listdir(file_path)                                               # 1.jpg 로 바뀐 이름을 가져와야 되기 때문에 다시 로드\n",
    "    count = 1\n",
    "    for file_name in file_list :\n",
    "        old_name = file_path + \"\\\\\" + file_name                                     # old_name = 1.jpg\n",
    "        new_name = file_path + \"\\\\\" + folder_name + \"_\" + str(count) + \".jpg\"       # new_name = hood_T_1.jpg\n",
    "\n",
    "        try:\n",
    "            os.rename(old_name, new_name)\n",
    "            print(\"success : \" + file_name + \" -> \" + folder_name + \"_\" + str(count) + \".jpg\")\n",
    "        except:\n",
    "            print(\"fail : \" + file_name + \" -> \" + folder_name + \"_\" + str(count) + \".jpg\")\n",
    "            print(\"=========files already renamed number(1.jpg) to new_name(hood_T_1.jpg)===========\")\n",
    "            break\n",
    "        count = count + 1"
   ]
  },
  {
   "cell_type": "code",
   "execution_count": 11,
   "metadata": {},
   "outputs": [
    {
     "ename": "OSError",
     "evalue": "[Errno 22] Invalid argument: 'exchange_jpg\\top.pdf_dir\\x0cirst.jpg'",
     "output_type": "error",
     "traceback": [
      "\u001b[1;31m---------------------------------------------------------------------------\u001b[0m",
      "\u001b[1;31mOSError\u001b[0m                                   Traceback (most recent call last)",
      "\u001b[1;32m<ipython-input-11-776ecaf02ed8>\u001b[0m in \u001b[0;36m<module>\u001b[1;34m\u001b[0m\n\u001b[0;32m      1\u001b[0m \u001b[0mpytesseract\u001b[0m\u001b[1;33m.\u001b[0m\u001b[0mtesseract_cmd\u001b[0m\u001b[1;33m=\u001b[0m\u001b[1;34mr'C:\\Program Files\\Tesseract-OCR\\tesseract.exe'\u001b[0m\u001b[1;33m\u001b[0m\u001b[1;33m\u001b[0m\u001b[0m\n\u001b[0;32m      2\u001b[0m \u001b[1;33m\u001b[0m\u001b[0m\n\u001b[1;32m----> 3\u001b[1;33m \u001b[0mtext\u001b[0m\u001b[1;33m=\u001b[0m\u001b[0mpytesseract\u001b[0m\u001b[1;33m.\u001b[0m\u001b[0mimage_to_string\u001b[0m\u001b[1;33m(\u001b[0m\u001b[0mImage\u001b[0m\u001b[1;33m.\u001b[0m\u001b[0mopen\u001b[0m\u001b[1;33m(\u001b[0m\u001b[1;34m'exchange_jpg\\top.pdf_dir\\first.jpg'\u001b[0m\u001b[1;33m)\u001b[0m\u001b[1;33m,\u001b[0m\u001b[0mlang\u001b[0m\u001b[1;33m=\u001b[0m\u001b[1;34m'kor'\u001b[0m\u001b[1;33m)\u001b[0m\u001b[1;33m\u001b[0m\u001b[1;33m\u001b[0m\u001b[0m\n\u001b[0m\u001b[0;32m      4\u001b[0m \u001b[0mprint\u001b[0m\u001b[1;33m(\u001b[0m\u001b[0mtext\u001b[0m\u001b[1;33m)\u001b[0m\u001b[1;33m\u001b[0m\u001b[1;33m\u001b[0m\u001b[0m\n",
      "\u001b[1;32m~\\Anaconda3\\lib\\site-packages\\PIL\\Image.py\u001b[0m in \u001b[0;36mopen\u001b[1;34m(fp, mode)\u001b[0m\n\u001b[0;32m   2632\u001b[0m \u001b[1;33m\u001b[0m\u001b[0m\n\u001b[0;32m   2633\u001b[0m     \u001b[1;32mif\u001b[0m \u001b[0mfilename\u001b[0m\u001b[1;33m:\u001b[0m\u001b[1;33m\u001b[0m\u001b[1;33m\u001b[0m\u001b[0m\n\u001b[1;32m-> 2634\u001b[1;33m         \u001b[0mfp\u001b[0m \u001b[1;33m=\u001b[0m \u001b[0mbuiltins\u001b[0m\u001b[1;33m.\u001b[0m\u001b[0mopen\u001b[0m\u001b[1;33m(\u001b[0m\u001b[0mfilename\u001b[0m\u001b[1;33m,\u001b[0m \u001b[1;34m\"rb\"\u001b[0m\u001b[1;33m)\u001b[0m\u001b[1;33m\u001b[0m\u001b[1;33m\u001b[0m\u001b[0m\n\u001b[0m\u001b[0;32m   2635\u001b[0m         \u001b[0mexclusive_fp\u001b[0m \u001b[1;33m=\u001b[0m \u001b[1;32mTrue\u001b[0m\u001b[1;33m\u001b[0m\u001b[1;33m\u001b[0m\u001b[0m\n\u001b[0;32m   2636\u001b[0m \u001b[1;33m\u001b[0m\u001b[0m\n",
      "\u001b[1;31mOSError\u001b[0m: [Errno 22] Invalid argument: 'exchange_jpg\\top.pdf_dir\\x0cirst.jpg'"
     ]
    }
   ],
   "source": [
    "pytesseract.tesseract_cmd=r'C:\\Program Files\\Tesseract-OCR\\tesseract.exe'\n",
    "\n",
    "text=pytesseract.image_to_string(Image.open('exchange_jpg\\top.pdf_dir\\first.jpg'),lang='kor')\n",
    "print(text)"
   ]
  },
  {
   "cell_type": "code",
   "execution_count": null,
   "metadata": {},
   "outputs": [],
   "source": [
    "#jpg변환된파일 텍스트추출후 삭제하는거v >> 저장소 관리를 위해"
   ]
  },
  {
   "cell_type": "code",
   "execution_count": null,
   "metadata": {},
   "outputs": [],
   "source": []
  },
  {
   "cell_type": "code",
   "execution_count": null,
   "metadata": {},
   "outputs": [],
   "source": []
  },
  {
   "cell_type": "code",
   "execution_count": null,
   "metadata": {},
   "outputs": [],
   "source": [
    "print(text.replace(\"\",\" \"))"
   ]
  }
 ],
 "metadata": {
  "kernelspec": {
   "display_name": "Python 3",
   "language": "python",
   "name": "python3"
  },
  "language_info": {
   "codemirror_mode": {
    "name": "ipython",
    "version": 3
   },
   "file_extension": ".py",
   "mimetype": "text/x-python",
   "name": "python",
   "nbconvert_exporter": "python",
   "pygments_lexer": "ipython3",
   "version": "3.7.3"
  }
 },
 "nbformat": 4,
 "nbformat_minor": 2
}
